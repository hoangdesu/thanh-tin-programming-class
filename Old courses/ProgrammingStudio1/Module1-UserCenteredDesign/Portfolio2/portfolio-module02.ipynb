{
 "cells": [
  {
   "cell_type": "markdown",
   "metadata": {},
   "source": [
    "<center>\n",
    "\n",
    "# COSC3056 Programming Studio 1 Portfolio\n",
    "# Module 2: Building User Experiences and Interfaces\n",
    "\n",
    "</center>"
   ]
  },
  {
   "attachments": {},
   "cell_type": "markdown",
   "metadata": {
    "tags": [
     "q0;shorttext;0"
    ]
   },
   "source": [
    "This portfolio is created by\n",
    "\n",
    "| Name | *Add your full name* |\n",
    "|---|---|\n",
    "| Student Id | *Add your student id* |\n",
    "| Semester | Semester 1 2024 |"
   ]
  },
  {
   "attachments": {},
   "cell_type": "markdown",
   "metadata": {},
   "source": [
    "### Declaration and Statement of Authorship\n",
    "\n",
    "When you submit your work electronically for studio components, you must agree to the [RMIT assessment declaration](https://www.rmit.edu.au/students/my-course/assessment-results/assessment) below.\n",
    "\n",
    "1. I/we have not impersonated, or allowed myself to be impersonated by, any person for the purposes of this assessment.\n",
    "2. This assessment is my/our original work and no part of it has been copied from any other source except where due acknowledgement\n",
    "is made.\n",
    "3. No part of this assessment has been written for me/us by any other person except where such collaboration has been authorised\n",
    "by the lecturer/teacher concerned.\n",
    "4. Where this work is being submitted for individual assessment, I declare that it is my original work and that no part has been contributed\n",
    "by, produced by or in conjunction with another student.\n",
    "5. I/we give permission for my assessment response to be reproduced, communicated compared and archived for the purposes\n",
    "of detecting plagiarism.\n",
    "6. I/we give permission for a copy of my assessment to be retained by the university for review and comparison, including review by external examiners.\n",
    "7. I/we understand that:\n",
    "    - Plagiarism is the presentation of the work, idea or creation of another person as though it is your own. It is a form of cheating and is a very serious academic offence that may lead to exclusion from the University. Plagiarised material can be drawn from, and presented in, written, graphic and visual form, including electronic data and oral presentations. Plagiarism occurs when the origin of the material used is not appropriately cited.\n",
    "    - Plagiarism includes the act of assisting or allowing another person to plagiarise or to copy my work.\n",
    "    \n",
    "    \n",
    "I/we agree and acknowledge that:\n",
    "1. I/we have read and understood the Declaration and Statement of Authorship above.\n",
    "2. If I/we do not agree to the Declaration and Statement of Authorship in this context and a signature is not included below, the assessment outcome is not valid for assessment purposes and will not be included in my final result for this course.\n",
    "\n",
    "Visit the student essentials Academic Integrity page for more information on [academic integrity at RMIT](https://www.rmit.edu.au/students/my-course/assessment-results/academic-integrity), including your responsibilities,\n",
    "breaches and penalties for academic misconduct.\n",
    "\n",
    "\n",
    "### Student Signature\n",
    "\"_I/we declare that I/we have read and understood the above Declaration and Statement of Authorship._\"\n",
    "\n",
    "You must write your full name and student ID in the table in the markdown cell at the top of this portfolio.<br>\n",
    "**Failure to do so may result in a grade penalty or a grade of zero.**"
   ]
  },
  {
   "attachments": {},
   "cell_type": "markdown",
   "metadata": {},
   "source": [
    "<style>\n",
    "blockquote {\n",
    "  border: 3px dashed #00DCB4;\n",
    "  padding: 10px;\n",
    "}\n",
    "</style>\n",
    "\n",
    "> ## Instructions & Information\n",
    "> This notebook template has been provided to get you started on your portolfio. It is also structured for the automated marking tool SageGrader.\n",
    "> Therefore, we require that you use and edit the notebook correctly.\n",
    "> \n",
    "> ### How to use this Notebook for your Portfolio\n",
    "> To use your notebook, we kindly ask that:\n",
    "> 1. Place your answer to the question in the **existing** answer block, by double-clicking on the block you wish to edit.\n",
    "> 1. You **must not** delete any existing cells in this notebook and you **must not** modify any existing cell tags. If you accidentally delete a cell, you will need to ``undo'' the change, such using the  \"Edit → Undo\" VSCode menu option.\n",
    "> 1. In general, answer cells will have denoted placeholder content with dummy values, such as comments like *`my answer'*.\n",
    "> 1. You **must not** change any text in an existing cell that is **outside** of block to place your answers.\n",
    "> 1. To add images to this notebook you **must embedd the image** into the notebook. To do this:\n",
    ">     1. Find the image on your computer (Windows: File Explorer, Mac: Finder). Note the image can't have spaces in the filename\n",
    ">     1. \"Copy\" the image (Right-click on the image → Copy)\n",
    ">     1. \"Paste\" the image into the cell below (Double click to edit the cell → Right-click → Paste)\n",
    ">     1. If this is done correctly, you should see something of the form ``![image-name.png](attachment:image-name.png)``\n",
    ">     1. Please make sure to press the tick '✔️' on the cell containing the image to ensure the attachment is added\n",
    "> 1. Please see Canvas for additional assessment instructions. \n",
    ">\n",
    "> ### How to use Markdown syntax\n",
    "> This notebook uses the markdown syntax for formatting. For help on using Markdown, IBM has a good [Markdown Cheat-sheet](https://www.ibm.com/docs/en/watson-studio-local/1.2.3?topic=notebooks-markdown-jupyter-cheatsheet)."
   ]
  },
  {
   "cell_type": "markdown",
   "metadata": {},
   "source": [
    "<style>\n",
    "h2 {\n",
    "   text-align: center;\n",
    "}\n",
    "hr {\n",
    "  border: none;\n",
    "  border-top: 6px ridge #04cfc5;\n",
    "}\n",
    "</style>\n",
    "___\n",
    "\n",
    "## Studio Class 4: Design Patterns\n",
    "\n",
    "### Preparation Activities"
   ]
  },
  {
   "cell_type": "markdown",
   "metadata": {},
   "source": [
    "**Question 1:** <a id=\"q-sc4-q1\"></a>\n",
    " What are 3 advantages of using Design Patterns?"
   ]
  },
  {
   "cell_type": "markdown",
   "metadata": {},
   "source": [
    "\n",
    "*My Answer*"
   ]
  },
  {
   "cell_type": "markdown",
   "metadata": {},
   "source": [
    "**Question 2:** <a id=\"q-sc4-q3\"></a>\n",
    "Write a 1 sentence description for following navigation models."
   ]
  },
  {
   "cell_type": "markdown",
   "metadata": {},
   "source": [
    "\n",
    "| Navigation model | Answer |\n",
    "|------------------|--------|\n",
    "| Global Navigation | *My Answer* |\n",
    "| Hub and Spoke | *My Answer* |\n",
    "| Fully Connected | *My Answer* |\n",
    "| Multi-Level | *My Answer* |"
   ]
  },
  {
   "cell_type": "markdown",
   "metadata": {},
   "source": [
    "**Question 3:** <a id=\"q-sc4-q4\"></a>\n",
    "Choose 2 types of Navigation Models that could be implemented using Fat Menu design pattern."
   ]
  },
  {
   "cell_type": "markdown",
   "metadata": {},
   "source": [
    "\n",
    "*My Answer*"
   ]
  },
  {
   "cell_type": "markdown",
   "metadata": {},
   "source": [
    "### Studio Class Work"
   ]
  },
  {
   "cell_type": "markdown",
   "metadata": {},
   "source": [
    "**Question 4:** <a id=\"q-sc4-q7\"></a>\n",
    "Card Sorting photo/screenshot.\n",
    "\n",
    "*Add your diagram below. To add your image:*\n",
    "1. *Find the image on your computer (Windows: File Exploer, Mac: Finder). Note the image can't have spaces in the filename*\n",
    "1. *\"Copy\" the image (Right-click on the image → Copy)*\n",
    "1. *\"Paste\" the image into the cell below (Double click to edit the cell → Right-click → Paste)*\n",
    "1. *If this is done correctly, you should see something of the form ``![image-name.png](attachment:image-name.png)``*\n",
    "1. *Please make sure to press the tick '✔️' on the cell containing the image to ensure the attachment is added*"
   ]
  },
  {
   "cell_type": "markdown",
   "metadata": {},
   "source": [
    "*My group's work*"
   ]
  },
  {
   "cell_type": "markdown",
   "metadata": {},
   "source": [
    "**Question 5:** <a id=\"q-sc4-q8\"></a>(Navigation Design Patterns) For each type of navigation model, write down if it is suitable for your card sorting categories along with a 1 sentence justification."
   ]
  },
  {
   "cell_type": "markdown",
   "metadata": {},
   "source": [
    "\n",
    "\n",
    "| Navigation Design Pattern | Answer |\n",
    "|---------------------------|--------|\n",
    "| Global Navigation | *My Answer* |\n",
    "| Hub and Spoke | *My Answer* |\n",
    "| Fully Connected | *My Answer* |\n",
    "| Multi-Level | *My Answer* |\n",
    "| Clear Entry Points | *My Answer* |\n",
    "| Escape Hatch | *My Answer* |"
   ]
  },
  {
   "cell_type": "markdown",
   "metadata": {},
   "source": [
    "**Question 6:** <a id=\"q-sc4-q9\"></a>Navigation Design Pattern(s) photo/screenshot"
   ]
  },
  {
   "cell_type": "markdown",
   "metadata": {},
   "source": [
    "*My group's work*"
   ]
  },
  {
   "cell_type": "markdown",
   "metadata": {},
   "source": [
    "**Question 7:** <a id=\"q-sc4-q10\"></a>Page Layout Design Pattern(s) photo/screenshot"
   ]
  },
  {
   "cell_type": "markdown",
   "metadata": {},
   "source": [
    "*My group's work*"
   ]
  },
  {
   "cell_type": "markdown",
   "metadata": {},
   "source": [
    "**Question 8:** <a id=\"q-sc4-q11\"></a>\n",
    "Interaction Design Pattern(s) photo/screenshot"
   ]
  },
  {
   "cell_type": "markdown",
   "metadata": {},
   "source": [
    "*My group's work*"
   ]
  },
  {
   "cell_type": "markdown",
   "metadata": {},
   "source": [
    "**Question 9:** <a id=\"q-sc4-q12\"></a>\n",
    "Re-evaluating your Ideation of the Goods Trading Website."
   ]
  },
  {
   "cell_type": "markdown",
   "metadata": {},
   "source": [
    "*My updated ideation of the Goods Trading Website*"
   ]
  },
  {
   "cell_type": "markdown",
   "metadata": {},
   "source": [
    "**Question 10:** <a id=\"q-sc4-q13\"></a>\n",
    "A description of the design pattern you identified that could be \"more effectively used\":"
   ]
  },
  {
   "cell_type": "markdown",
   "metadata": {},
   "source": [
    "\n",
    "*My Answer*"
   ]
  },
  {
   "cell_type": "markdown",
   "metadata": {},
   "source": [
    "**Question 11:** <a id=\"q-sc4-q14\"></a>\n",
    "A description of the design pattern you identified that \"would be effective to use\":"
   ]
  },
  {
   "cell_type": "markdown",
   "metadata": {},
   "source": [
    "\n",
    "*My Answer*"
   ]
  },
  {
   "cell_type": "markdown",
   "metadata": {},
   "source": [
    "<style>\n",
    "h2 {\n",
    "   text-align: center;\n",
    "}\n",
    "hr {\n",
    "  border: none;\n",
    "  border-top: 6px ridge #04cfc5;\n",
    "}\n",
    "</style>\n",
    "___\n",
    "\n",
    "## Studio Class 5: Scenarios and Storyboarding\n",
    "\n",
    "### Preparation Activities"
   ]
  },
  {
   "attachments": {},
   "cell_type": "markdown",
   "metadata": {},
   "source": [
    "**Question 1:** <a id=\"q9a\"></a>\n",
    "\n",
    "Why are Scenarios and Storyboards part of the User Centred Design process?"
   ]
  },
  {
   "attachments": {},
   "cell_type": "markdown",
   "metadata": {
    "tags": [
     "q9a;longtext;1"
    ]
   },
   "source": [
    "*My Answer*"
   ]
  },
  {
   "attachments": {},
   "cell_type": "markdown",
   "metadata": {},
   "source": [
    "**Question 2:** <a id=\"q9b\"></a>\n",
    "\n",
    "What are the key benefits of Scenarios and Storyboards?"
   ]
  },
  {
   "attachments": {},
   "cell_type": "markdown",
   "metadata": {
    "tags": [
     "q9b;longtext;1"
    ]
   },
   "source": [
    "*My Answer*"
   ]
  },
  {
   "attachments": {},
   "cell_type": "markdown",
   "metadata": {},
   "source": [
    "**Question 3:** <a id=\"q9c\"></a>\n",
    "\n",
    "What are the three important elements for creating good quality scenarios?"
   ]
  },
  {
   "attachments": {},
   "cell_type": "markdown",
   "metadata": {
    "tags": [
     "q9c;longtext;1"
    ]
   },
   "source": [
    "*My Answer*"
   ]
  },
  {
   "attachments": {},
   "cell_type": "markdown",
   "metadata": {},
   "source": [
    "**Question 4:** <a id=\"q9e\"></a>\n",
    "\n",
    "Provide the details of your prepared version of the Lynn Persona."
   ]
  },
  {
   "attachments": {},
   "cell_type": "markdown",
   "metadata": {
    "tags": [
     "q9e;longtext;1"
    ]
   },
   "source": [
    "*My Answer*"
   ]
  },
  {
   "attachments": {},
   "cell_type": "markdown",
   "metadata": {},
   "source": [
    "### Studio Class Work"
   ]
  },
  {
   "attachments": {},
   "cell_type": "markdown",
   "metadata": {},
   "source": [
    "**Question 5:** <a id=\"q9f\"></a>\n",
    "\n",
    "Provide the image of your group's version of the Lynn Persona."
   ]
  },
  {
   "attachments": {},
   "cell_type": "markdown",
   "metadata": {
    "tags": [
     "q9f;img;1"
    ]
   },
   "source": [
    "*My Image*"
   ]
  },
  {
   "attachments": {},
   "cell_type": "markdown",
   "metadata": {},
   "source": [
    "**Question 6:** <a id=\"q9g\"></a>\n",
    "\n",
    "Record your group's 3 Context Scenarios"
   ]
  },
  {
   "attachments": {},
   "cell_type": "markdown",
   "metadata": {
    "tags": [
     "q9g;longtext;1"
    ]
   },
   "source": [
    "*My Answer*"
   ]
  },
  {
   "attachments": {},
   "cell_type": "markdown",
   "metadata": {},
   "source": [
    "**Question 7:** <a id=\"q9h\"></a>\n",
    "\n",
    "Provide the image of your individual storyboard"
   ]
  },
  {
   "attachments": {},
   "cell_type": "markdown",
   "metadata": {
    "tags": [
     "q9h;img;1"
    ]
   },
   "source": [
    "*My Image*"
   ]
  }
 ],
 "metadata": {
  "celltoolbar": "Tags",
  "kernelspec": {
   "display_name": "Python 3 (ipykernel)",
   "language": "python",
   "name": "python3"
  },
  "language_info": {
   "codemirror_mode": {
    "name": "ipython",
    "version": 3
   },
   "file_extension": ".py",
   "mimetype": "text/x-python",
   "name": "python",
   "nbconvert_exporter": "python",
   "pygments_lexer": "ipython3",
   "version": "3.11.2"
  },
  "vscode": {
   "interpreter": {
    "hash": "054c096e4d4b57417bb781656d4f5218b0e3c2d49c7047d1ff7347fb636be8e8"
   }
  }
 },
 "nbformat": 4,
 "nbformat_minor": 2
}
