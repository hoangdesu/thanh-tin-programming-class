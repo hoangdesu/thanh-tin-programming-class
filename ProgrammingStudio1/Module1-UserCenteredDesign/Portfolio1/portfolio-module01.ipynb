{
 "cells": [
  {
   "cell_type": "markdown",
   "metadata": {},
   "source": [
    "<center>\n",
    "\n",
    "# COSC3056 Programming Studio 1 Portfolio <a id='top'></a>\n",
    "# Module 1: Product Ideation and User Centred Design\n",
    "\n",
    "</center>"
   ]
  },
  {
   "cell_type": "markdown",
   "metadata": {
    "tags": [
     "q0;shorttext;0"
    ]
   },
   "source": [
    "This portfolio is created by\n",
    "\n",
    "| Name | *Add your full name* |\n",
    "|---|---|\n",
    "| Student Id | *Add your student id* |\n",
    "| Semester | Semester 1 2024 |"
   ]
  },
  {
   "cell_type": "markdown",
   "metadata": {},
   "source": [
    "### Declaration and Statement of Authorship\n",
    "\n",
    "When you submit your work electronically for studio components, you must agree to the [RMIT assessment declaration](https://www.rmit.edu.au/students/my-course/assessment-results/assessment) below.\n",
    "\n",
    "1. I/we have not impersonated, or allowed myself to be impersonated by, any person for the purposes of this assessment.\n",
    "2. This assessment is my/our original work and no part of it has been copied from any other source except where due acknowledgement\n",
    "is made.\n",
    "3. No part of this assessment has been written for me/us by any other person except where such collaboration has been authorised\n",
    "by the lecturer/teacher concerned.\n",
    "4. Where this work is being submitted for individual assessment, I declare that it is my original work and that no part has been contributed\n",
    "by, produced by or in conjunction with another student.\n",
    "5. I/we give permission for my assessment response to be reproduced, communicated compared and archived for the purposes\n",
    "of detecting plagiarism.\n",
    "6. I/we give permission for a copy of my assessment to be retained by the university for review and comparison, including review by external examiners.\n",
    "7. I/we understand that:\n",
    "    - Plagiarism is the presentation of the work, idea or creation of another person as though it is your own. It is a form of cheating and is a very serious academic offence that may lead to exclusion from the University. Plagiarised material can be drawn from, and presented in, written, graphic and visual form, including electronic data and oral presentations. Plagiarism occurs when the origin of the material used is not appropriately cited.\n",
    "    - Plagiarism includes the act of assisting or allowing another person to plagiarise or to copy my work.\n",
    "    \n",
    "    \n",
    "I/we agree and acknowledge that:\n",
    "1. I/we have read and understood the Declaration and Statement of Authorship above.\n",
    "2. If I/we do not agree to the Declaration and Statement of Authorship in this context and a signature is not included below, the assessment outcome is not valid for assessment purposes and will not be included in my final result for this course.\n",
    "\n",
    "Visit the student essentials Academic Integrity page for more information on [academic integrity at RMIT](https://www.rmit.edu.au/students/my-course/assessment-results/academic-integrity), including your responsibilities,\n",
    "breaches and penalties for academic misconduct.\n",
    "\n",
    "\n",
    "### Student Signature\n",
    "\"_I/we declare that I/we have read and understood the above Declaration and Statement of Authorship._\"\n",
    "\n",
    "You must write your full name and student ID in the table in the markdown cell at the top of this portfolio.<br>\n",
    "**Failure to do so may result in a grade penalty or a grade of zero.**"
   ]
  },
  {
   "attachments": {},
   "cell_type": "markdown",
   "metadata": {},
   "source": [
    "<style>\n",
    "blockquote {\n",
    "  border: 3px dashed #00DCB4;\n",
    "  padding: 10px;\n",
    "}\n",
    "</style>\n",
    "\n",
    "> ## Instructions & Information\n",
    "> This notebook template has been provided to get you started on your portolfio. It is also structured for the automated marking tool SageGrader.\n",
    "> Therefore, we require that you use and edit the notebook correctly.\n",
    "> \n",
    "> ### How to use this Notebook for your Portfolio\n",
    "> To use your notebook, we kindly ask that:\n",
    "> 1. Place your answer to the question in the **existing** answer block, by double-clicking on the block you wish to edit.\n",
    "> 1. You **must not** delete any existing cells in this notebook and you **must not** modify any existing cell tags. If you accidentally delete a cell, you will need to ``undo'' the change, such using the  \"Edit → Undo\" VSCode menu option.\n",
    "> 1. In general, answer cells will have denoted placeholder content with dummy values, such as comments like *`my answer'*.\n",
    "> 1. You **must not** change any text in an existing cell that is **outside** of block to place your answers.\n",
    "> 1. To add images to this notebook you **must embedd the image** into the notebook. To do this:\n",
    ">     1. Find the image on your computer (Windows: File Explorer, Mac: Finder). Note the image can't have spaces in the filename\n",
    ">     1. \"Copy\" the image (Right-click on the image → Copy)\n",
    ">     1. \"Paste\" the image into the cell below (Double click to edit the cell → Right-click → Paste)\n",
    ">     1. If this is done correctly, you should see something of the form ``![image-name.png](attachment:image-name.png)``\n",
    ">     1. Please make sure to press the tick '✔️' on the cell containing the image to ensure the attachment is added\n",
    "> 1. Please see Canvas for additional assessment instructions. \n",
    ">\n",
    "> ### How to use Markdown syntax\n",
    "> This notebook uses the markdown syntax for formatting. For help on using Markdown, IBM has a good [Markdown Cheat-sheet](https://www.ibm.com/docs/en/watson-studio-local/1.2.3?topic=notebooks-markdown-jupyter-cheatsheet)."
   ]
  },
  {
   "cell_type": "markdown",
   "metadata": {},
   "source": [
    "<style>\n",
    "h2 {\n",
    "   text-align: center;\n",
    "}\n",
    "hr {\n",
    "  border: none;\n",
    "  border-top: 6px ridge #C864C8;\n",
    "}\n",
    "</style>\n",
    "___\n",
    "\n",
    "## Studio Class 1: Product Ideation & Competitive Analysis\n"
   ]
  },
  {
   "cell_type": "markdown",
   "metadata": {},
   "source": [
    "### Studio Class Work"
   ]
  },
  {
   "cell_type": "markdown",
   "metadata": {},
   "source": [
    "**Question 1: Step 1 - Purpose** <a id=\"q-sc1-q8\"></a>\n",
    "\n",
    "What is the Purpose of your practice product in addressing the practice challenge?"
   ]
  },
  {
   "cell_type": "markdown",
   "metadata": {},
   "source": [
    "**My answer is here!!**"
   ]
  },
  {
   "cell_type": "markdown",
   "metadata": {
    "tags": [
     "q1h;longtext;1"
    ]
   },
   "source": [
    "*My Answer*"
   ]
  },
  {
   "cell_type": "markdown",
   "metadata": {},
   "source": [
    "**Question 2: Step 2A - Target Market** <a id=\"q-sc1-q9\"></a>\n",
    "\n",
    "What are the most significant characteristics of your Target Market?"
   ]
  },
  {
   "cell_type": "markdown",
   "metadata": {
    "tags": [
     "q1i;longtext;1"
    ]
   },
   "source": [
    "*My Answer*"
   ]
  },
  {
   "attachments": {},
   "cell_type": "markdown",
   "metadata": {},
   "source": [
    "**Question 3:** <a id=\"q-sc1-q10\"></a>\n",
    "\n",
    "Draw the market diagram for your Target Market.\n",
    "\n",
    "*Add your diagram below. To add your image:*\n",
    "1. *Find the image on your computer (Windows: File Exploer, Mac: Finder). Note the image can't have spaces in the filename*\n",
    "1. *\"Copy\" the image (Right-click on the image → Copy)*\n",
    "1. *\"Paste\" the image into the cell below (Double click to edit the cell → Right-click → Paste)*\n",
    "1. *If this is done correctly, you should see something of the form ``![image-name.png](attachment:image-name.png)``*\n",
    "1. *Please make sure to press the tick '✔️' on the cell containing the image to ensure the attachment is added*"
   ]
  },
  {
   "cell_type": "markdown",
   "metadata": {
    "tags": [
     "q1j;img;1"
    ]
   },
   "source": [
    "*My Diagram*"
   ]
  },
  {
   "attachments": {
    "atm.jpg": {
     "image/jpeg": "[encoded data removed]"
    }
   },
   "cell_type": "markdown",
   "metadata": {},
   "source": [
    "![atm.jpg](attachment:atm.jpg)"
   ]
  },
  {
   "attachments": {},
   "cell_type": "markdown",
   "metadata": {},
   "source": [
    "**Question 4: Step 3 - Value Proposition** <a id=\"q-sc1-q13\"></a>\n",
    "\n",
    "Draw the Value Proposition Canvas: Value Proposition and Customer Profile.\n",
    "\n",
    "*Add your diagram below. To add your image:*\n",
    "1. *Find the image on your computer (Windows: File Exploer, Mac: Finder). Note the image can't have spaces in the filename*\n",
    "1. *\"Copy\" the image (Right-click on the image → Copy)*\n",
    "1. *\"Paste\" the image into the cell below (Double click to edit the cell → Right-click → Paste)*\n",
    "1. *If this is done correctly, you should see something of the form ``![image-name.png](attachment:image-name.png)``*\n",
    "1. *Please make sure to press the tick '✔️' on the cell containing the image to ensure the attachment is added*"
   ]
  },
  {
   "cell_type": "markdown",
   "metadata": {
    "tags": [
     "q1m;img;1"
    ]
   },
   "source": [
    "*My Diagram*"
   ]
  },
  {
   "cell_type": "markdown",
   "metadata": {},
   "source": [
    "**Question 5 - Step 4A Competitive Analysis:** <a id=\"q-sc1-q14\"></a>\n",
    "\n",
    "Identify and analyse one alternative your practice product."
   ]
  },
  {
   "cell_type": "markdown",
   "metadata": {
    "tags": [
     "q1n;longtext;1"
    ]
   },
   "source": [
    "|&nbsp;|\n",
    "|------|\n",
    "|What is the Purpose of the alternative product? <br /> <br />*My answer* |\n",
    "|How does this Purpose compare to the Purpose you identified in Step 1. <br /><br /> *My answer* |\n",
    "|What are the characteristics of the Target Market and the Customer Profile of the alternative product? <br /><br /> *My answer* |\n",
    "|How does this Target Market and Customer Profile compare to the Target Market and Customer Profile your identified in Steps 2a & 2b? <br /><br /> *My answer* |\n",
    "|What Value Proposition is provided by the alternative product? <br /><br /> *My answer* |\n",
    "|What lessons could your draw from this alternative product to improve your practice product?<br /><br /> *My answer* |\n",
    "|How would you improve the Value Proposition you identified in Step 3?<br /><br /> *My answer* |\n"
   ]
  },
  {
   "cell_type": "markdown",
   "metadata": {},
   "source": [
    "**Question 6 - Step 4B Competitive Advantage:** <a id=\"q-sc1-q15\"></a>\n",
    "\n",
    "List the advantages of your Practice Product Idea over the alternative product that you identified."
   ]
  },
  {
   "cell_type": "markdown",
   "metadata": {
    "tags": [
     "q1o;longtext;1"
    ]
   },
   "source": [
    "*My Answer*"
   ]
  },
  {
   "cell_type": "markdown",
   "metadata": {},
   "source": [
    "<style>\n",
    "h2 {\n",
    "   text-align: center;\n",
    "}\n",
    "hr {\n",
    "  border: none;\n",
    "  border-top: 6px ridge #C864C8;\n",
    "}\n",
    "</style>\n",
    "___\n",
    "\n",
    "## Studio Class 2: Personas <a id=\"q2\"></a>\n",
    "\n",
    "### Preparation Activities"
   ]
  },
  {
   "cell_type": "markdown",
   "metadata": {},
   "source": [
    "**Question 1:** <a id=\"q-sc2-q1\"></a>\n",
    "Why is User Centred Design important?"
   ]
  },
  {
   "cell_type": "markdown",
   "metadata": {
    "tags": [
     "q2a;longtext;1"
    ]
   },
   "source": [
    "*My answer*"
   ]
  },
  {
   "cell_type": "markdown",
   "metadata": {},
   "source": [
    "**Question 2:** <a id=\"q-sc2-q4\"></a>\n",
    "Why should we put down Direct Quotes from users?"
   ]
  },
  {
   "cell_type": "markdown",
   "metadata": {
    "tags": [
     "q2d;longtext;1"
    ]
   },
   "source": [
    "\n",
    "*My Answer*"
   ]
  },
  {
   "cell_type": "markdown",
   "metadata": {},
   "source": [
    "**Question 3:** <a id=\"q-sc2-q5\"></a>\n",
    "What are the purpose of the following elements of an Experience Map?"
   ]
  },
  {
   "cell_type": "markdown",
   "metadata": {
    "tags": [
     "q2e;longtext;1"
    ]
   },
   "source": [
    "|Element|Answer|\n",
    "|-------|------|\n",
    "|Task| *My answer* |\n",
    "|Activity| *My answer* |"
   ]
  },
  {
   "cell_type": "markdown",
   "metadata": {},
   "source": [
    "**Question 4:** <a id=\"q-sc2-q6\"></a>\n",
    "After completing an experience map, what 2 things should we gather?"
   ]
  },
  {
   "cell_type": "markdown",
   "metadata": {
    "tags": [
     "q2f;longtext;1"
    ]
   },
   "source": [
    "\n",
    "*My Answer*"
   ]
  },
  {
   "cell_type": "markdown",
   "metadata": {},
   "source": [
    "**Question 5:** <a id=\"q-sc2-q7\"></a>\n",
    "List the elements of a Persona."
   ]
  },
  {
   "cell_type": "markdown",
   "metadata": {
    "tags": [
     "q2g;longtext;1"
    ]
   },
   "source": [
    "\n",
    "*My Answer*"
   ]
  },
  {
   "cell_type": "markdown",
   "metadata": {},
   "source": [
    "### Studio Class Work"
   ]
  },
  {
   "cell_type": "markdown",
   "metadata": {},
   "source": [
    "**Question 6:** <a id=\"q-sc2-q9\"></a>\n",
    "Write a 1-sentence statement to describe each stage of the User Centred Design process."
   ]
  },
  {
   "cell_type": "markdown",
   "metadata": {},
   "source": [
    "\n",
    "| Stage | Description |\n",
    "|-------|-------------|\n",
    "| User Data | *My answer* |\n",
    "| Pain Points & Goals | *My answer* |\n",
    "| Personas | *My answer* |\n",
    "| Ideation | *My answer* |\n",
    "| Scenarios & Storyboarding | *My answer* |\n",
    "| Prototyping & Building | *My answer* |"
   ]
  },
  {
   "attachments": {},
   "cell_type": "markdown",
   "metadata": {},
   "source": [
    "**Question 7: Activity:** <a id=\"q-sc2-q8\"></a>\n",
    "Your group's experience map\n",
    "\n",
    "*Add your diagram below. To add your image:*\n",
    "1. *Find the image on your computer (Windows: File Exploer, Mac: Finder). Note the image can't have spaces in the filename*\n",
    "1. *\"Copy\" the image (Right-click on the image → Copy)*\n",
    "1. *\"Paste\" the image into the cell below (Double click to edit the cell → Right-click → Paste)*\n",
    "1. *If this is done correctly, you should see something of the form ``![image-name.png](attachment:image-name.png)``*\n",
    "1. *Please make sure to press the tick '✔️' on the cell containing the image to ensure the attachment is added*"
   ]
  },
  {
   "cell_type": "markdown",
   "metadata": {
    "tags": [
     "q2h;img;1.0"
    ]
   },
   "source": [
    "*My Image*"
   ]
  },
  {
   "cell_type": "markdown",
   "metadata": {},
   "source": [
    "**Question 8: Activity:** <a id=\"q-sc2-q10\"></a>\n",
    "Your group's Personas of the system discussed in the class"
   ]
  },
  {
   "cell_type": "markdown",
   "metadata": {
    "tags": [
     "q2j;longtext;1"
    ]
   },
   "source": [
    "\n",
    "*My Answer*"
   ]
  },
  {
   "cell_type": "markdown",
   "metadata": {},
   "source": [
    "<style>\n",
    "h2 {\n",
    "   text-align: center;\n",
    "}\n",
    "hr {\n",
    "  border: none;\n",
    "  border-top: 6px ridge #C864C8;\n",
    "}\n",
    "</style>\n",
    "___\n",
    "\n",
    "## Studio Class 3: Ideation & Design Principles\n",
    "\n",
    "### Preparation Activities"
   ]
  },
  {
   "cell_type": "markdown",
   "metadata": {},
   "source": [
    "**Question 1:** <a id=\"q-sc3-q1\"></a>\n",
    "What problem is ideation intended to prevent?"
   ]
  },
  {
   "cell_type": "markdown",
   "metadata": {
    "tags": [
     "q3a;longtext;1.0"
    ]
   },
   "source": [
    "\n",
    "*My Answer*"
   ]
  },
  {
   "cell_type": "markdown",
   "metadata": {},
   "source": [
    "**Question 2:**  <a id=\"q-sc3-q2\"></a>\n",
    "Describe each of the 5 stages of the design charrette ideation technique in 1\n",
    "sentence."
   ]
  },
  {
   "cell_type": "markdown",
   "metadata": {
    "tags": [
     "q3b;longtext;1"
    ]
   },
   "source": [
    "\n",
    "| Stage Name | Description |\n",
    "|------------|-------------|\n",
    "| *Stage 1* | *My answer* |\n",
    "| *Stage 2* | *My answer* |\n",
    "| *Stage 3* | *My answer* |\n",
    "| *Stage 4* | *My answer* |\n",
    "| *Stage 5* | *My answer* |"
   ]
  },
  {
   "cell_type": "markdown",
   "metadata": {},
   "source": [
    "**Activity:** List the 10 Nielsen Design Heuristics in the studio work section of your portfolio\n",
    "below (**Question 11**). You will fill in the other columns during class.\n"
   ]
  },
  {
   "attachments": {},
   "cell_type": "markdown",
   "metadata": {},
   "source": [
    "**Question 3:** Choose 2 Nielsen design heuristics. Then take screenshots of websites with a good or bad examples of your chosen Nielsen design heuristics. Include the images below each section.\n",
    "\n",
    "*Add your diagram below. To add your image:*\n",
    "1. *Find the image on your computer (Windows: File Exploer, Mac: Finder). Note the image can't have spaces in the filename*\n",
    "1. *\"Copy\" the image (Right-click on the image → Copy)*\n",
    "1. *\"Paste\" the image into the cell below (Double click to edit the cell → Right-click → Paste)*\n",
    "1. *If this is done correctly, you should see something of the form ``![image-name.png](attachment:image-name.png)``*\n",
    "1. *Please make sure to press the tick '✔️' on the cell containing the image to ensure the attachment is added*"
   ]
  },
  {
   "cell_type": "markdown",
   "metadata": {},
   "source": [
    "**Heuristic #1, Good example**  <a id=\"q-sc3-q3\"></a>"
   ]
  },
  {
   "cell_type": "markdown",
   "metadata": {
    "tags": [
     "q3c;img;1.0"
    ]
   },
   "source": [
    "*My Diagram*"
   ]
  },
  {
   "cell_type": "markdown",
   "metadata": {},
   "source": [
    "**Heuristic #1, Bad example**  <a id=\"q-sc3-q4\"></a>"
   ]
  },
  {
   "cell_type": "markdown",
   "metadata": {
    "tags": [
     "q3d;img;1"
    ]
   },
   "source": [
    "*My Diagram*"
   ]
  },
  {
   "cell_type": "markdown",
   "metadata": {},
   "source": [
    "**Heuristic #2, Good example**  <a id=\"q-sc3-q5\"></a>"
   ]
  },
  {
   "cell_type": "markdown",
   "metadata": {
    "tags": [
     "q3e;img;1"
    ]
   },
   "source": [
    "*My Diagram*"
   ]
  },
  {
   "cell_type": "markdown",
   "metadata": {},
   "source": [
    "**Heuristic #2, Bad example**  <a id=\"q-sc3-q6\"></a>"
   ]
  },
  {
   "cell_type": "markdown",
   "metadata": {
    "tags": [
     "q3f;img;1"
    ]
   },
   "source": [
    "*My Diagram*"
   ]
  },
  {
   "cell_type": "markdown",
   "metadata": {},
   "source": [
    "### Studio Class Work"
   ]
  },
  {
   "cell_type": "markdown",
   "metadata": {},
   "source": [
    "**Question 4:**  <a id=\"q-sc3-q7\"></a>\n",
    "My Individual Trading Goods Website Personas Persona"
   ]
  },
  {
   "cell_type": "markdown",
   "metadata": {
    "tags": [
     "q3g;longtext;1"
    ]
   },
   "source": [
    "\n",
    "*My individually created Persona*"
   ]
  },
  {
   "cell_type": "markdown",
   "metadata": {},
   "source": [
    "**Question 5:** <a id=\"q-sc3-q8\"></a>\n",
    "Breakout Group's Trading Goods Website Personas Persona #1"
   ]
  },
  {
   "cell_type": "markdown",
   "metadata": {
    "tags": [
     "q3h;longtext;1"
    ]
   },
   "source": [
    "\n",
    "*Breakout Group Persona #1*"
   ]
  },
  {
   "cell_type": "markdown",
   "metadata": {},
   "source": [
    "**Question 6:**  <a id=\"q-sc3-q11\"></a>\n",
    "Nielsen Design Heuristics\n",
    "Complete the table below with a description and example of each Nielsen Design Heuristics"
   ]
  },
  {
   "cell_type": "markdown",
   "metadata": {
    "tags": [
     "q3k;longtext;1"
    ]
   },
   "source": [
    "\n",
    "|  | Heuristic | Description | Example | \n",
    "|--|-----------|---------------------|---------------------|\n",
    "|1 | | | |\n",
    "|2 | | | |\n",
    "|3 | | | |\n",
    "|4 | | | |\n",
    "|5 | | | |\n",
    "|6 | | | |\n",
    "|7 | | | |\n",
    "|8 | | | |\n",
    "|9 | | | |\n",
    "|10| | | |\n"
   ]
  },
  {
   "cell_type": "markdown",
   "metadata": {},
   "source": [
    "**Question 7:**  <a id=\"q-sc3-q12\"></a>\n",
    "Individual Ideation"
   ]
  },
  {
   "cell_type": "markdown",
   "metadata": {
    "tags": [
     "q3l;longtext;1"
    ]
   },
   "source": [
    "Persona: *My Chosen Persona*\n",
    "\n",
    "Issue(s): *My Chosen Issue(s)*"
   ]
  },
  {
   "cell_type": "markdown",
   "metadata": {
    "tags": [
     "q3m;img;1"
    ]
   },
   "source": [
    "*Diagram of my Ideation*"
   ]
  }
 ],
 "metadata": {
  "celltoolbar": "Tags",
  "kernelspec": {
   "display_name": "Python 3 (ipykernel)",
   "language": "python",
   "name": "python3"
  },
  "language_info": {
   "codemirror_mode": {
    "name": "ipython",
    "version": 3
   },
   "file_extension": ".py",
   "mimetype": "text/x-python",
   "name": "python",
   "nbconvert_exporter": "python",
   "pygments_lexer": "ipython3",
   "version": "3.10.11"
  },
  "vscode": {
   "interpreter": {
    "hash": "054c096e4d4b57417bb781656d4f5218b0e3c2d49c7047d1ff7347fb636be8e8"
   }
  }
 },
 "nbformat": 4,
 "nbformat_minor": 2
}
